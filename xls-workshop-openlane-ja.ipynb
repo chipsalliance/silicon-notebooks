{
  "nbformat": 4,
  "nbformat_minor": 0,
  "metadata": {
    "colab": {
      "name": "xls-workshop-openlane-ja.ipynb",
      "provenance": [],
      "collapsed_sections": [
        "OffI2UIZvSoh"
      ],
      "toc_visible": true,
      "include_colab_link": true
    },
    "kernelspec": {
      "name": "python3",
      "display_name": "Python 3"
    },
    "language_info": {
      "name": "python"
    }
  },
  "cells": [
    {
      "cell_type": "markdown",
      "metadata": {
        "id": "view-in-github",
        "colab_type": "text"
      },
      "source": [
        "<a href=\"https://colab.research.google.com/github/chipsalliance/silicon-notebooks/blob/main/xls-workshop-openlane-ja.ipynb\" target=\"_parent\"><img src=\"https://colab.research.google.com/assets/colab-badge.svg\" alt=\"Open In Colab\"/></a>"
      ]
    },
    {
      "cell_type": "markdown",
      "source": [
        "# XLSとOpenLaneを使ったコードからの半導体設計\n",
        "\n",
        "```\n",
        "Copyright 2021 Google LLC.\n",
        "SPDX-License-Identifier: Apache-2.0\n",
        "```\n",
        "このノートブックでは\n",
        "- 高位合成ツールキットの[XLS](https://google.github.io/xls/)での設計\n",
        "- [OpenLane](https://github.com/The-OpenROAD-Project/OpenLane/)による、RTLからGDSの生成\n",
        "- オープンソースの[SKY130](https://github.com/google/skywater-pdk/) PDK向けのチップ設計\n",
        "\n",
        "を取り扱います。ソフトウェア開発に近い形でのハードウェア設計を体験してみましょう。"
      ],
      "metadata": {
        "id": "O0_lYRzdoepc"
      }
    },
    {
      "cell_type": "markdown",
      "source": [],
      "metadata": {
        "id": "0DwyKb5AsyW8"
      }
    },
    {
      "cell_type": "code",
      "execution_count": null,
      "metadata": {
        "id": "Yk-Am1AkjHBs"
      },
      "outputs": [],
      "source": [
        "%pip install -q https://github.com/conda-incubator/condacolab/archive/28521d7c5c494dd6377bb072d97592e30c44609c.tar.gz\n",
        "#@title conda環境のインストール {display-mode: \"form\"}\n",
        "#@markdown - ▷ ボタンをクリックすると、conda-edaのセットアップが開始されます。\n",
        "#@markdown - Click the ▷ button to setup the digital design environment based on [conda-eda](https://github.com/hdl/conda-eda).\n",
        "\n",
        "openlane_version = 'latest' #@param {type:\"string\"}\n",
        "open_pdks_version = 'latest' #@param {type:\"string\"}\n",
        "xls_version = 'latest' #@param {type:\"string\"}\n",
        "\n",
        "if openlane_version == 'latest':\n",
        "  openlane_version = ''\n",
        "if open_pdks_version == 'latest':\n",
        "  open_pdks_version = ''\n",
        "if xls_version == 'latest':\n",
        "  xls_version = ''\n",
        "\n",
        "import os\n",
        "import pathlib\n",
        "import sys\n",
        "\n",
        "!curl -Ls https://micro.mamba.pm/api/micromamba/linux-64/latest | tar -xj bin/micromamba\n",
        "conda_prefix_path = pathlib.Path('conda-env')\n",
        "site_package_path = conda_prefix_path / 'lib/python3.7/site-packages'\n",
        "sys.path.append(str(site_package_path.resolve()))\n",
        "CONDA_PREFIX = str(conda_prefix_path.resolve())\n",
        "PATH = os.environ['PATH']\n",
        "%env CONDA_PREFIX={CONDA_PREFIX}\n",
        "%env PATH={CONDA_PREFIX}/bin:{PATH}\n",
        "!bin/micromamba create --yes --prefix $CONDA_PREFIX\n",
        "!echo 'python ==3.7*' >> {CONDA_PREFIX}/conda-meta/pinned\n",
        "!CI=0 bin/micromamba install --yes --prefix $CONDA_PREFIX \\\n",
        "                     --channel litex-hub \\\n",
        "                     --channel main \\\n",
        "                     openlane={openlane_version} \\\n",
        "                     open_pdks.sky130a={open_pdks_version} \\\n",
        "                     xls={xls_version} \\\n",
        "                     iverilog\n",
        "!python -m pip install cocotb pytest vcdvcd wavedrom\n",	
        "!curl -L -O https://patch-diff.githubusercontent.com/raw/The-OpenROAD-Project/OpenLane/pull/1503.patch\n",
        "!patch -p1 -d conda-env/share/openlane < 1503.patch\n",
        "!curl -L -O https://github.com/google/xls/archive/refs/heads/main.tar.gz\n",
        "!tar --strip-components=1 -xf main.tar.gz xls-main/xls/dslx/stdlib/ xls-main/xls/modules/\n",
        "def2gds_mag = '''gds read $::env(CONDA_PREFIX)/share/pdk/sky130A/libs.ref/sky130_fd_sc_hd/gds/sky130_fd_sc_hd.gds\n",
        "lef read $::env(CONDA_PREFIX)/share/pdk/sky130A/libs.ref/sky130_fd_sc_hd/techlef/sky130_fd_sc_hd__nom.tlef\n",
        "lef read $::env(CONDA_PREFIX)/share/pdk/sky130A/libs.ref/sky130_fd_sc_hd/lef/sky130_fd_sc_hd.lef\n",
        "def read $::env(IN_DEF)\n",
        "gds write $::env(IN_DEF).gds'''\n",
        "with open('def2gds.mag', 'w') as f:\n",
        "  f.write(def2gds_mag)\n",
        "!git clone https://github.com/mbalestrini/GDS2glTF.git\n",
        "!python -m pip install -r GDS2glTF/requirements.txt\n",
        "!git clone https://github.com/proppy/gds_viewer.git\n",
        "import jinja2\n",
        "gds_viewer = jinja2.Environment(loader=jinja2.FileSystemLoader('gds_viewer')).get_template('viewer.html')"
      ]
    },
    {
      "cell_type": "markdown",
      "source": [
        "## 高位合成(HLS)を使った設計\n",
        "\n",
        "[XLS](https://google.github.io/xls/)は高位合成(High Level Synthesis: HLS)のツールチェインを提供します。XLSを用いることで、ソフトウェア開発に近い方法でハードウェアの設計が可能です。\n",
        "\n",
        "[DSLX](https://google.github.io/xls/dslx_reference/) はハードウェア設計向けのデータフロー志向・関数型のドメイン特化言語(Domain Specific Language: DSL)です。DSLXで記述した高レベルな機能の設計から、具体的なハードウェアデザインを生成できます。\n",
        "\n",
        "![img](https://google.github.io/xls/images/xls_stack_diagram.png)"
      ],
      "metadata": {
        "id": "ylo5KQ-gvX02"
      }
    },
    {
      "cell_type": "markdown",
      "source": [
        "### DSLX\n",
        "\n",
        ">DSLX mimics Rust, while being an immutable expression-based dataflow DSL with hardware-oriented features; e.g. arbitrary bitwidths, entirely fixed size objects, fully analyzeable call graph, etc. To avoid arbitrary new syntax/semantics choices, the DSL mimics Rust where it is reasonably possible; for example, integer conversions all follow the same semantics as Rust.\n",
        "\n",
        ">Note: There are some unnecessary differences today from Rust syntax due to early experimentation, but they are quickly being removed to converge on Rust syntax.\n",
        "\n",
        "https://google.github.io/xls/dslx_reference/\n",
        "\n",
        "以下の例を通して次のようなDSLXの機能を紹介します。\n",
        "- 基本的な言語仕様と[文法](https://google.github.io/xls/dslx_reference/#expressions)\n",
        "- [ユニットテスト](https://google.github.io/xls/dslx_reference/#unit-tests)\n",
        "- [パラメトリックな関数](https://google.github.io/xls/dslx_reference/#parametric-functions)の定義\n",
        "- [標準ライブラリ](https://google.github.io/xls/dslx_std/)とモジュールの[インポート](https://google.github.io/xls/dslx_reference/#imports).\n"
      ],
      "metadata": {
        "id": "8YD8l8Zo6bKB"
      }
    },
    {
      "cell_type": "code",
      "source": [
        "%%bash -c 'cat > user_module.x; interpreter_main user_module.x'\n",
        "\n",
        "// 最初の行では、\"adder1\" という名前の関数 (fn) を宣言している (Functions: https://google.github.io/xls/dslx_reference/#functions)\n",
        "// この関数は \"a\" と \"b\" という 2 つの 1 ビット符号なし整数 (u1) を受け取り、2 ビット符号なし整数 (u2) を返す\n",
        "// この例では、\"-> u2\"の部分を削除することで、戻り値のない関数を定義することもできる\n",
        "\n",
        "// 2行目は \"n\" という名前の2ビット符号なし整数（u2）を定義し、\"a\" と \"b\" の和を代入している\n",
        "// \"let\" ステートメントで新しい変数を導入する\n",
        "// \"as\" でu1型変数 \"a\" をu2型変数に変換（Type cast：https://google.github.io/xls/dslx_reference/#type-casting）\n",
        "\n",
        "// 3行目は戻り値(関数は最後に計算した式の結果を戻り値として返す)\n",
        "fn adder1(a: u1, b: u1) -> u2 {\n",
        "  let n: u2 = a as u2 + b as u2;\n",
        "  n\n",
        "}\n",
        "\n",
        "\n",
        "// \"adder1\"の関数を8ビット入力8ビット出力に変換するラッパー関数\n",
        "// ビットの抽出(\"io_in[0:1]\")についてはDSLX referenceの \"Bit slice expressions\" 項を参照（Bit slice expressions：https://google.github.io/xls/dslx_reference/#bit-slice-expressions）\n",
        "fn user_module(io_in: u8) -> u8 {\n",
        "  adder1(io_in[0:1], io_in[4:5]) as u8\n",
        "}\n",
        "\n",
        "\n",
        "// 関数が意図したとおりに動作するかをテストするtest function\n",
        "// DSLX referenceの \"assert_eq, assert_lt\" 項を参照（assert_eq, assert_lt: https://google.github.io/xls/dslx_reference/#assert_eq-assert_lt）\n",
        "// \"let _ = ...\"部分のアンダースコア(_)は、その関数の戻り値を無視することを意味する\n",
        "// バイナリ値(\"0b0001_0001\")のアンダースコア(_)は可読性のために挿入されているだけなので無視してもOK\n",
        "#[test]\n",
        "fn test() {\n",
        "  let _ = assert_eq(adder1(u1:0b1, u1:0b1), u2:0b10);\n",
        "  let _ = assert_eq(user_module(u8:0b0001_0001), u8:0b000000_10);\n",
        "  _\n",
        "}"
      ],
      "metadata": {
        "id": "JKGxScUtoV4E"
      },
      "execution_count": null,
      "outputs": []
    },
    {
      "cell_type": "markdown",
      "source": [
        "## ハードウェアIRへの変換\n",
        "DSLXのコードからハードウェア回路合成により適した形式\n",
        "[XLS IR](https://google.github.io/xls/ir_semantics/)に変換しましょう。\n",
        "XLS IRは回路合成に特化した純粋なデータフロー志向の中間表現(Intermediate Respresentation: IR)です。"
      ],
      "metadata": {
        "id": "smMIJhopvqwo"
      }
    },
    {
      "cell_type": "code",
      "source": [
        "!ir_converter_main --top=user_module user_module.x > user_module.ir\n",
        "!opt_main user_module.ir > user_module_opt.ir\n",
        "!cat user_module_opt.ir"
      ],
      "metadata": {
        "id": "YMTh7WB6oxeW"
      },
      "execution_count": null,
      "outputs": []
    },
    {
      "cell_type": "markdown",
      "source": [
        "## RTLの生成\n",
        "\n",
        "XLS codegenを使うことで、XLS IRから回路合成とシミュレーションに使用する\n",
        "(System) Verilog [RTL](https://en.wikipedia.org/wiki/Register-transfer_level)を生成できます。\n",
        "\n",
        "[Verilog](https://en.wikipedia.org/wiki/Verilog)は回路設計で広く用いられているので、XLSで生成されたVerilogコードは、各種の設計フローや他の設計と統合することができます。"
      ],
      "metadata": {
        "id": "i-4cFqIFfE9M"
      }
    },
    {
      "cell_type": "code",
      "source": [
        "!codegen_main --use_system_verilog=false --module_name=user_module --generator=combinational user_module_opt.ir > user_module.v\n",
        "!cat user_module.v"
      ],
      "metadata": {
        "id": "CL1HG1ApfDn9"
      },
      "execution_count": null,
      "outputs": []
    },
    {
      "cell_type": "markdown",
      "source": [
        "## OpenLaneフローの実行\n",
        "\n",
        "[OpenLane](https://openlane.readthedocs.io/en/latest/)\n",
        "は[RTL](https://en.wikipedia.org/wiki/Register-transfer_level)\n",
        "から\n",
        "[GDSII](https://en.wikipedia.org/wiki/GDSII)\n",
        "を生成する自動化されたフローです。\n",
        "\n",
        "このフローは\n",
        "[OpenROAD](https://theopenroadproject.org/),\n",
        "[Yosys](https://yosyshq.net/yosys/), [Magic](http://www.opencircuitdesign.com/magic/), [Netgen](http://opencircuitdesign.com/netgen/)\n",
        "といったコンポーネントと\n",
        "[open source PDKs](https://github.com/google/open-source-pdks)向けのデザイン探索や最適化のためのカスタムスクリプトからなります。\n",
        "\n",
        "フローの概要については下記の図を参考にしてください。\n",
        "\n",
        "![img](https://openlane.readthedocs.io/en/latest/_images/flow_v1.png)"
      ],
      "metadata": {
        "id": "ff2G5VJjvz3z"
      }
    },
    {
      "cell_type": "markdown",
      "source": [
        "#### OpenLaneの設定\n",
        "\n",
        "[ドキュメント](https://openlane.readthedocs.io/en/latest/reference/configuration.html)"
      ],
      "metadata": {
        "id": "gDWDJZpX_sMW"
      }
    },
    {
      "cell_type": "code",
      "source": [
        "%%writefile config.json\n",
        "{\n",
        "    \"DESIGN_NAME\": \"user_module\",\n",
        "    \"VERILOG_FILES\": \"dir::user_module.v\",\n",
        "    \"CLOCK_TREE_SYNTH\": false,\n",
        "    \"CLOCK_PERIOD\": 10,\n",
        "    \"CLOCK_PORT\": \"clk\",\n",
        "    \"CLOCK_NET\": \"ref::$CLOCK_PORT\",\n",
        "    \"FP_SIZING\": \"absolute\",\n",
        "    \"DIE_AREA\": \"0 0 50 50\",\n",
        "    \"PL_TARGET_DENSITY\": 0.30,\n",
        "    \"FP_PIN_ORDER_CFG\": \"dir::pin_order.cfg\"\n",
        "}"
      ],
      "metadata": {
        "id": "W9mttCesa512"
      },
      "execution_count": null,
      "outputs": []
    },
    {
      "cell_type": "code",
      "source": [
        "%%writefile pin_order.cfg\n",
        "#BUS_SORT\n",
        "\n",
        "#W\n",
        "io_in.*\n",
        "\n",
        "#E\n",
        "out.*"
      ],
      "metadata": {
        "id": "3Cxbh_ER0CBS"
      },
      "execution_count": null,
      "outputs": []
    },
    {
      "cell_type": "markdown",
      "source": [
        "### 回路合成\n",
        "\n",
        "- 入力: [RTL](https://en.wikipedia.org/wiki/Register-transfer_level) (Verilog)\n",
        "- 出力: 素子情報付きの[ネットリスト](https://en.wikipedia.org/wiki/Netlist) (Verilog)\n",
        "- メトリック: セルの数と [タイミング収束](https://en.wikipedia.org/wiki/Timing_closure) の推定値\n",
        "\n",
        "[ドキュメント](https://openlane.readthedocs.io/en/latest/usage/hardening_macros.html#synthesis)"
      ],
      "metadata": {
        "id": "epoiobzjkwuT"
      }
    },
    {
      "cell_type": "code",
      "source": [
        "%env PDK=sky130A\n",
        "!flow.tcl -design . -to synthesis"
      ],
      "metadata": {
        "id": "8gim7pEdozHv"
      },
      "execution_count": null,
      "outputs": []
    },
    {
      "cell_type": "code",
      "source": [
        "#@title ネットリストのプレビュー {display-mode: \"form\"}\n",
        "\n",
        "import graphviz\n",
        "import pathlib\n",
        "\n",
        "dots = sorted(pathlib.Path('runs').glob('*/tmp/synthesis/post_techmap.dot'))\n",
        "print(dots)\n",
        "dot = graphviz.Source.from_file(dots[-1])\n",
        "dot.engine = 'dot'\n",
        "dot"
      ],
      "metadata": {
        "id": "wUiIfa_9wMRh"
      },
      "execution_count": null,
      "outputs": []
    },
    {
      "cell_type": "markdown",
      "source": [
        "### フロアプラン\n",
        "\n",
        "- 入力: 素子情報付きの[ネットリスト](https://en.wikipedia.org/wiki/Netlist) (Verilog)\n",
        "- 出力: 電源供給配線網(Power Delivery Network: PDN)とI/Oピンのついたダイ上のレイアウト([DEF](https://en.wikipedia.org/wiki/Design_Exchange_Format))\n",
        "- メトリック: コアの面積\n",
        "\n",
        "[ドキュメント](https://openlane.readthedocs.io/en/latest/usage/hardening_macros.html#floorplan)"
      ],
      "metadata": {
        "id": "PaKJ6dr3k1yT"
      }
    },
    {
      "cell_type": "code",
      "source": [
        "%env PDK=sky130A\n",
        "!flow.tcl -design . -to floorplan"
      ],
      "metadata": {
        "id": "5hzngAqWcNlW"
      },
      "execution_count": null,
      "outputs": []
    },
    {
      "cell_type": "code",
      "source": [
        "#@title プレビュー {display-mode: \"form\"}\n",
        "\n",
        "import pathlib\n",
        "\n",
        "STEP='floorplan'\n",
        "in_def = sorted(pathlib.Path('runs').glob(f'*/results/{STEP}/*.def'))[-1].resolve()\n",
        "!IN_DEF={in_def} magic -dnull -noconsole -rcfile {CONDA_PREFIX}/share/pdk/sky130A/libs.tech/magic/sky130A.magicrc < def2gds.mag\n",
        "!python3 GDS2glTF/gds2gltf.py {in_def}.gds | tee gds2gltf.log\n",
        "import IPython.display\n",
        "IPython.display.clear_output(wait=True)\n",
        "with open(f'{in_def}.gds.gltf') as f:\n",
        "  gltf_data=f.read()\n",
        "  output = gds_viewer.render(gltf_data=gltf_data)\n",
        "IPython.display.HTML(output)"
      ],
      "metadata": {
        "id": "QhO6v-1N7l2u"
      },
      "execution_count": null,
      "outputs": []
    },
    {
      "cell_type": "markdown",
      "source": [
        "### 配置\n",
        "\n",
        "- 入力: 素子情報付きの[ネットリスト](https://en.wikipedia.org/wiki/Netlist) (Verilog),\n",
        "PDNとI/Oピンつきのダイの物理レイアウト([DEF](https://en.wikipedia.org/wiki/Design_Exchange_Format))\n",
        "- 出力: コンポーネントのセルが配置された物理レイアウト ([DEF](https://en.wikipedia.org/wiki/Design_Exchange_Format))\n",
        "- メトリック: コア面積, セル密度, [タイミング収束](https://en.wikipedia.org/wiki/Timing_closure)の推定値\n",
        "\n",
        "[ドキュメント](https://openlane.readthedocs.io/en/latest/usage/hardening_macros.html#placement)"
      ],
      "metadata": {
        "id": "mOxtgJhfhO_G"
      }
    },
    {
      "cell_type": "code",
      "source": [
        "%env PDK=sky130A\n",
        "!flow.tcl -design . -to placement"
      ],
      "metadata": {
        "id": "JJu8kAI_hO_O"
      },
      "execution_count": null,
      "outputs": []
    },
    {
      "cell_type": "code",
      "source": [
        "#@title プレビュー {display-mode: \"form\"}\n",
        "\n",
        "import pathlib\n",
        "\n",
        "STEP='placement'\n",
        "in_def = sorted(pathlib.Path('runs').glob(f'*/results/{STEP}/*.def'))[-1].resolve()\n",
        "!IN_DEF={in_def} magic -dnull -noconsole -rcfile {CONDA_PREFIX}/share/pdk/sky130A/libs.tech/magic/sky130A.magicrc < def2gds.mag\n",
        "!python3 GDS2glTF/gds2gltf.py {in_def}.gds | tee gds2gltf.log\n",
        "import IPython.display\n",
        "IPython.display.clear_output(wait=True)\n",
        "with open(f'{in_def}.gds.gltf') as f:\n",
        "  gltf_data=f.read()\n",
        "  output = gds_viewer.render(gltf_data=gltf_data)\n",
        "IPython.display.HTML(output)"
      ],
      "metadata": {
        "id": "oD8Ekk4thO_P"
      },
      "execution_count": null,
      "outputs": []
    },
    {
      "cell_type": "markdown",
      "source": [
        "### 配線\n",
        "\n",
        "- 入力: 素子情報付きの[ネットリスト](https://en.wikipedia.org/wiki/Netlist) (Verilog),\n",
        "コンポーネントのセルが配置された物理レイアウト([DEF](https://en.wikipedia.org/wiki/Design_Exchange_Format))\n",
        "\n",
        "- 出力: コンポーネントのセルへの配線が完了した物理レイアウト ([DEF](https://en.wikipedia.org/wiki/Design_Exchange_Format))\n",
        "- メトリック: ルートの衝突, [タイミング収束](https://en.wikipedia.org/wiki/Timing_closure)の予測値\n",
        "\n",
        "[ドキュメント](https://openlane.readthedocs.io/en/latest/usage/hardening_macros.html#routing)"
      ],
      "metadata": {
        "id": "9BqKTSVQJIjr"
      }
    },
    {
      "cell_type": "code",
      "source": [
        "%env PDK=sky130A\n",
        "!flow.tcl -design . -to routing"
      ],
      "metadata": {
        "id": "1EeLNXWXKiNM"
      },
      "execution_count": null,
      "outputs": []
    },
    {
      "cell_type": "code",
      "source": [
        "#@title プレビュー {display-mode: \"form\"}\n",
        "\n",
        "import pathlib\n",
        "\n",
        "STEP='routing'\n",
        "in_def = sorted(pathlib.Path('runs').glob(f'*/results/{STEP}/*.def'))[-1].resolve()\n",
        "!IN_DEF={in_def} magic -dnull -noconsole -rcfile {CONDA_PREFIX}/share/pdk/sky130A/libs.tech/magic/sky130A.magicrc < def2gds.mag\n",
        "!python3 GDS2glTF/gds2gltf.py {in_def}.gds | tee gds2gltf.log\n",
        "import IPython.display\n",
        "IPython.display.clear_output(wait=True)\n",
        "with open(f'{in_def}.gds.gltf') as f:\n",
        "  gltf_data=f.read()\n",
        "  output = gds_viewer.render(gltf_data=gltf_data)\n",
        "IPython.display.HTML(output)"
      ],
      "metadata": {
        "id": "4yNkdUfpcjph"
      },
      "execution_count": null,
      "outputs": []
    },
    {
      "cell_type": "markdown",
      "source": [
        "### サインオフ\n",
        "\n",
        "- 入力: コンポーネントのセルへの配線が完了した物理レイアウト([DEF](https://en.wikipedia.org/wiki/Design_Exchange_Format))\n",
        "- 出力: ファウンドリの[DRCルール](https://en.wikipedia.org/wiki/Design_rule_checking), 検証済みで製造に出せる物理レイアウト ([GDSII](https://en.wikipedia.org/wiki/GDSII))\n",
        "- メトリック: DRCエラー, [寄生データ](https://en.wikipedia.org/wiki/Standard_Parasitic_Exchange_Format), [タイミング収束](https://en.wikipedia.org/wiki/Timing_closure)の予測値\n",
        "\n",
        "[ドキュメント](https://openlane.readthedocs.io/en/latest/usage/hardening_macros.html#final-reports-and-checks)"
      ],
      "metadata": {
        "id": "a1T20TOGzjQ0"
      }
    },
    {
      "cell_type": "code",
      "source": [
        "%env PDK=sky130A\n",
        "!flow.tcl -design ."
      ],
      "metadata": {
        "id": "ZUq1xBKpeYJm"
      },
      "execution_count": null,
      "outputs": []
    },
    {
      "cell_type": "code",
      "source": [
        "#@title プレビュー {display-mode: \"form\"}\n",
        "\n",
        "import pathlib\n",
        "\n",
        "gds = sorted(pathlib.Path('runs').glob(f'*/results/final/gds/*.gds'))[-1].resolve()\n",
        "!python3 GDS2glTF/gds2gltf.py {gds} | tee gds2gltf.log\n",
        "import IPython.display\n",
        "IPython.display.clear_output(wait=True)\n",
        "with open(f'{gds}.gltf') as f:\n",
        "  gltf_data=f.read()\n",
        "  output = gds_viewer.render(gltf_data=gltf_data)\n",
        "IPython.display.HTML(output)"
      ],
      "metadata": {
        "id": "TKcEZXM1KiNM"
      },
      "execution_count": null,
      "outputs": []
    },
    {
      "cell_type": "code",
      "source": [
        "#@title メトリック {display-mode: \"form\"}\n",
        "#@markdown [ドキュメント](https://openlane.readthedocs.io/en/latest/reference/datapoint_definitions.html)\n",
        "import pathlib\n",
        "import pandas as pd\n",
        "\n",
        "pd.options.display.max_rows = None\n",
        "csv = sorted(pathlib.Path('runs').glob('*/reports/metrics.csv'))\n",
        "df = pd.read_csv(csv[-1])\n",
        "df.transpose()"
      ],
      "metadata": {
        "id": "ku12Wqw_znRp"
      },
      "execution_count": null,
      "outputs": []
    },
    {
      "cell_type": "markdown",
      "source": [
        "# 演習課題"
      ],
      "metadata": {
        "id": "A1ny24Z_VS_t"
      }
    },
    {
      "cell_type": "markdown",
      "source": [
        "##乗算器"
      ],
      "metadata": {
        "id": "RxfdUH5t15b7"
      }
    },
    {
      "cell_type": "markdown",
      "source": [
        "### ⌨ DSLX\n",
        "\n",
        "1. 以下の関数 `mul4` を変更して4ビットの乗算器を実装してください。実装にあたっては、[DSLXのスタンダードライブラリ](https://google.github.io/xls/dslx_std/) の関数を使ってみましょう（`std::`のプレフィックスを忘れずに）。\n",
        "1. この乗算器のVerilogコードを生成してください。\n",
        "1. OpenLaneのフローを走らせて回路合成まで進めてください。\n",
        "1. グラフの複雑さを加算器と比較してみてください。"
      ],
      "metadata": {
        "id": "64U6T2X4VbU1"
      }
    },
    {
      "cell_type": "code",
      "source": [
        "%%bash -c 'cat > user_module.x; interpreter_main user_module.x'\n",
        "import std\n",
        "\n",
        "fn mul4(a: u4, b: u4) -> u8 {\n",
        "  u8:0 // TODO(YOU) implement mul4\n",
        "}\n",
        "\n",
        "fn user_module(io_in: u8) -> u8 {\n",
        "  mul4(io_in[0:4], io_in[4:8]) as u8\n",
        "}\n",
        "\n",
        "#[test]\n",
        "fn test() {\n",
        "  let _ = assert_eq(mul4(u4:8, u4:8), u8:64);\n",
        "  let _ = assert_eq(user_module(u8:0b1000_1000), u8:0b0100_0000);\n",
        "  _\n",
        "}"
      ],
      "metadata": {
        "id": "fz-xxYsrVeUT"
      },
      "execution_count": null,
      "outputs": []
    },
    {
      "cell_type": "code",
      "source": [
        "!ir_converter_main --top=user_module user_module.x > user_module.ir\n",
        "!opt_main user_module.ir > user_module_opt.ir\n",
        "!codegen_main --use_system_verilog=false --module_name=user_module --generator=combinational user_module_opt.ir > user_module.v\n",
        "!cat user_module.v"
      ],
      "metadata": {
        "id": "RHYsuuOiVf42"
      },
      "execution_count": null,
      "outputs": []
    },
    {
      "cell_type": "code",
      "source": [
        "%env PDK=sky130A\n",
        "!flow.tcl -design . -to synthesis"
      ],
      "metadata": {
        "id": "FgEnJ0_3VkS0"
      },
      "execution_count": null,
      "outputs": []
    },
    {
      "cell_type": "code",
      "source": [
        "#@title プレビュー {display-mode: \"form\"}\n",
        "\n",
        "import graphviz\n",
        "import pathlib\n",
        "\n",
        "dots = sorted(pathlib.Path('runs').glob('*/tmp/synthesis/post_techmap.dot'))\n",
        "dot = graphviz.Source.from_file(dots[-1])\n",
        "dot.engine = 'dot'\n",
        "dot"
      ],
      "metadata": {
        "id": "vW_AZJQWVl4u"
      },
      "execution_count": null,
      "outputs": []
    },
    {
      "cell_type": "markdown",
      "source": [
        "### 🛠️ OpenLane\n",
        "\n",
        "1. OpenLaneのフローを最後まで走らせてください。\n",
        "1. `DIE_AREA`または`PL_TARGET_DENSITY` の[設定値](https://openlane.readthedocs.io/en/latest/reference/configuration.html)を変更することでエラーが発生しないように調整してください。\n",
        "1. [メトリック](https://openlane.readthedocs.io/en/latest/reference/datapoint_definitions.html) (`Total_Physical_Cells`, `wire_length`)を加算器の場合と比較してください。\n",
        "1. レイアウトを加算器の場合と比較してください。"
      ],
      "metadata": {
        "id": "e7OhISruVoTK"
      }
    },
    {
      "cell_type": "code",
      "source": [
        "%%writefile config.json\n",
        "{\n",
        "    \"DESIGN_NAME\": \"user_module\",\n",
        "    \"VERILOG_FILES\": \"dir::user_module.v\",\n",
        "    \"CLOCK_TREE_SYNTH\": false,\n",
        "    \"CLOCK_PERIOD\": 10,\n",
        "    \"CLOCK_PORT\": \"clk\",\n",
        "    \"CLOCK_NET\": \"ref::$CLOCK_PORT\",\n",
        "    \"FP_SIZING\": \"absolute\",\n",
        "    \"DIE_AREA\": \"0 0 50 50\",\n",
        "    \"PL_TARGET_DENSITY\": 0.30,\n",
        "    \"FP_PIN_ORDER_CFG\": \"dir::pin_order.cfg\"\n",
        "}"
      ],
      "metadata": {
        "id": "VrLy5j43Vq7J"
      },
      "execution_count": null,
      "outputs": []
    },
    {
      "cell_type": "code",
      "source": [
        "%env PDK=sky130A\n",
        "!flow.tcl -design ."
      ],
      "metadata": {
        "id": "XdfTAGbnVuYO"
      },
      "execution_count": null,
      "outputs": []
    },
    {
      "cell_type": "code",
      "source": [
        "#@title メトリック {display-mode: \"form\"}\n",
        "import pathlib\n",
        "import pandas as pd\n",
        "\n",
        "pd.options.display.max_rows = None\n",
        "csv = sorted(pathlib.Path('runs').glob('*/reports/metrics.csv'))\n",
        "df = pd.read_csv(csv[-1])\n",
        "df.transpose()"
      ],
      "metadata": {
        "id": "gSoK3nslVwaJ"
      },
      "execution_count": null,
      "outputs": []
    },
    {
      "cell_type": "code",
      "source": [
        "#@title プレビュー {display-mode: \"form\"}\n",
        "\n",
        "import pathlib\n",
        "\n",
        "gds = sorted(pathlib.Path('runs').glob(f'*/results/final/gds/*.gds'))[-1].resolve()\n",
        "!python3 GDS2glTF/gds2gltf.py {gds} | tee gds2gltf.log\n",
        "import IPython.display\n",
        "IPython.display.clear_output(wait=True)\n",
        "with open(f'{gds}.gltf') as f:\n",
        "  gltf_data=f.read()\n",
        "  output = gds_viewer.render(gltf_data=gltf_data)\n",
        "IPython.display.HTML(output)"
      ],
      "metadata": {
        "id": "pEWYvSk4Vyu2"
      },
      "execution_count": null,
      "outputs": []
    },
    {
      "cell_type": "markdown",
      "source": [
        "##パイプライン"
      ],
      "metadata": {
        "id": "UPvi3Ksv2Ckq"
      }
    },
    {
      "cell_type": "markdown",
      "source": [
        "### パイプラインのステージ\n",
        "- 乗算器を複数のパイプラインステージに[スケジュール](https://google.github.io/xls/scheduling/)するために、XLSの[codegen pipeliningの設定](https://google.github.io/xls/codegen_options/#pipelining-and-scheduling-options)の適切な組み合わせを探してください。\n",
        "- 生成されたverilogコードを確認してください。\n"
      ],
      "metadata": {
        "id": "0ImQytna2Lqa"
      }
    },
    {
      "cell_type": "code",
      "source": [
        "pipeline_stages = 1\n",
        "clock_period_ps = 10\n",
        "!ir_converter_main --top=user_module user_module.x > user_module.ir\n",
        "!opt_main user_module.ir > user_module_opt.ir\n",
        "!codegen_main --pipeline_stages={pipeline_stages} --clock_period_ps={clock_period_ps} --delay_model=sky130 --use_system_verilog=false --module_name=user_module user_module_opt.ir > user_module.v\n",
        "!cat user_module.v"
      ],
      "metadata": {
        "id": "SP5SRY8F5c8n"
      },
      "execution_count": null,
      "outputs": []
    },
    {
      "cell_type": "markdown",
      "source": [
        "### シミュレーション\n",
        "- [cocotb](https://www.cocotb.org/)テストベンチをアップデートして、生成されたverikogの動作を確認してください。\n",
        "- [タイミング図]((https://en.wikipedia.org/wiki/Digital_timing_diagram))を確認して値がどのようにパイプラインのステージを流れていくかを確認してください。"
      ],
      "metadata": {
        "id": "D0SnwMuw5hKE"
      }
    },
    {
      "cell_type": "code",
      "source": [
        "%%writefile Makefile\n",
        "SIM ?= icarus\n",
        "TOPLEVEL_LANG ?= verilog\n",
        "VERILOG_SOURCES += user_module.v\n",
        "VERILOG_SOURCES += top.v\n",
        "TOPLEVEL = top\n",
        "MODULE = test\n",
        "\n",
        "include $(shell cocotb-config --makefiles)/Makefile.sim"
      ],
      "metadata": {
        "id": "OdzuJshq6hhZ"
      },
      "execution_count": null,
      "outputs": []
    },
    {
      "cell_type": "code",
      "source": [
        "%%writefile top.v\n",
        "\n",
        "module top(\n",
        "  input wire clk,\n",
        "  input wire [7:0] io_in,\n",
        "  output wire [7:0] out\n",
        ");\n",
        "\n",
        "  user_module user_module_tb(clk, io_in, out);\n",
        "`ifdef COCOTB_SIM\n",
        "initial begin\n",
        "  $dumpfile (\"user_module.vcd\");\n",
        "  $dumpvars (0, user_module_tb);\n",
        "  #1;\n",
        "end\n",
        "`endif\n",
        "endmodule"
      ],
      "metadata": {
        "id": "C2CDRshb6j-u"
      },
      "execution_count": null,
      "outputs": []
    },
    {
      "cell_type": "code",
      "source": [
        "%%bash -c \"cat > test.py; make\"\n",
        "import cocotb\n",
        "from cocotb.triggers import ClockCycles, RisingEdge\n",
        "from cocotb.clock import Clock\n",
        "\n",
        "@cocotb.test()\n",
        "async def test_test(dut):\n",
        "    c = Clock(dut.clk, 1, 'ns')\n",
        "    cocotb.start_soon(c.start())\n",
        "\n",
        "    # TODO(YOU): update with the 8-input to user_module\n",
        "    dut.user_module_tb.io_in.value = NaN\n",
        "    # pipeline stage 0: fetch\n",
        "    await ClockCycles(dut.clk, 2)\n",
        "    # TODO(YOU): verify that the input value propagate to stage #0\n",
        "    assert dut.user_module_tb.p0_io_in == NaN\n",
        "\n",
        "    # pipeline stage 1: slice\n",
        "    await ClockCycles(dut.clk, 2)\n",
        "    # TODO(YOU): verify that the input value is sliced into 4-bit umul operands\n",
        "    assert dut.user_module_tb.p1_bit_slice_TODO == NaN\n",
        "    assert dut.user_module_tb.p1_bit_slice_TODO == NaN\n",
        "\n",
        "    # pipeline stage 2: multiply\n",
        "    await ClockCycles(dut.clk, 2)\n",
        "    # TODO(YOU): verify that the output value match the multiplication result\n",
        "    assert dut.user_module_tb.out == NaN"
      ],
      "metadata": {
        "id": "MfrCj2xp6mdm"
      },
      "execution_count": null,
      "outputs": []
    },
    {
      "cell_type": "code",
      "source": [
        "#@title プレビュー {display-mode: \"form\"}\n",
        "\n",
        "import wavedrom\n",
        "import vcdvcd\n",
        "import json\n",
        "\n",
        "def filter_signals(top, signals, filter=[]):\n",
        "  if len(filter) == 0:\n",
        "    return signals\n",
        "  for f in filter:\n",
        "    for s in signals:\n",
        "      if f in s and 'comb' not in s:\n",
        "        yield s.replace(f'{top}.', '')\n",
        "\n",
        "def signals_to_wave(filename, top, clk='clk', cycles=0, filter=[], period=500):\n",
        "  vcd = vcdvcd.VCDVCD(filename)\n",
        "  clk_tv = vcd[f'{top}.{clk}'].tv\n",
        "  ticks = len(clk_tv) if cycles == 0 else cycles * 2\n",
        "  yield {'name': clk, 'wave': 'P' + '.' * (cycles-1), 'period': 2 }\n",
        "  for s in filter_signals(top, vcd.signals, filter):\n",
        "    wave = ['x'] * ticks\n",
        "    data = []\n",
        "    for t, d in vcd[f'{top}.{s}'].tv:\n",
        "      i = int(t/500)\n",
        "      if d.isnumeric():\n",
        "        wave[i] = '='\n",
        "        data.append(hex(int(f'0b{d}', 2)))\n",
        "      else:\n",
        "        wave[i] = d\n",
        "    yield {'name': s, 'wave': ''.join(wave), 'data': ' '.join(data), 'phase': 0.5}\n",
        "\n",
        "drom = {\n",
        "    'signal': list(signals_to_wave('user_module.vcd', top='top.user_module_tb', cycles=pipeline_stages+1, filter=['io_in', 'p1_bit_slice', 'out']))\n",
        "}\n",
        "svg = wavedrom.render(json.dumps(drom))\n",
        "display(svg)"
      ],
      "metadata": {
        "id": "dgDJweK76uCi"
      },
      "execution_count": null,
      "outputs": []
    },
    {
      "cell_type": "markdown",
      "source": [
        "### 静的タイミング解析\n",
        "- [静的タイミング解析](https://xtech.nikkei.com/dm/article/WORD/20090107/163760/)を実行してください。\n",
        "- ログにある全ての[コーナ](https://en.wikipedia.org/wiki/Static_timing_analysis#Corners_and_STA)に関して、[スラック](https://xtech.nikkei.com/dm/article/WORD/20090107/163760/#:~:text=%E3%81%AE%E5%88%A4%E5%AE%9A%E3%82%92%E3%80%8C-,%E3%82%B9%E3%83%A9%E3%83%83%E3%82%AF,-%E3%80%8D%E3%81%A8%E3%81%84%E3%81%86%E9%87%8F%E3%81%A7)が`VIOLATED`から`MET`に変わるまで、`CLOCK_PERIOD`を変更してください。\n",
        "- ハードウェア合成を再度行ってください。\n",
        "- レイアウト上のパイプラインにどのような影響があるかを確認してください。"
      ],
      "metadata": {
        "id": "NnwDuMkB61RB"
      }
    },
    {
      "cell_type": "code",
      "source": [
        "%%writefile config.json\n",
        "{\n",
        "    \"DESIGN_NAME\": \"user_module\",\n",
        "    \"VERILOG_FILES\": \"dir::user_module.v\",\n",
        "    \"CLOCK_TREE_SYNTH\": true,\n",
        "    \"CLOCK_PERIOD\": 1,\n",
        "    \"CLOCK_PORT\": \"clk\",\n",
        "    \"CLOCK_NET\": \"ref::$CLOCK_PORT\",\n",
        "    \"FP_SIZING\": \"absolute\",\n",
        "    \"DIE_AREA\": \"0 0 150 150\",\n",
        "    \"PL_TARGET_DENSITY\": 0.70,\n",
        "    \"FP_PIN_ORDER_CFG\": \"dir::pin_order.cfg\"\n",
        "}"
      ],
      "metadata": {
        "id": "lCh1TAM59ChW"
      },
      "execution_count": null,
      "outputs": []
    },
    {
      "cell_type": "code",
      "source": [
        "%%writefile pin_order.cfg\n",
        "#BUS_SORT\n",
        "\n",
        "#W\n",
        "io_in\\[0\\]\n",
        "io_in\\[1\\]\n",
        "io_in\\[2\\]\n",
        "io_in\\[3\\]\n",
        "clk\n",
        "io_in\\[4\\]\n",
        "io_in\\[5\\]\n",
        "io_in\\[6\\]\n",
        "io_in\\[7\\]\n",
        "\n",
        "#E\n",
        "out.*"
      ],
      "metadata": {
        "id": "rAHXJviS9Ebr"
      },
      "execution_count": null,
      "outputs": []
    },
    {
      "cell_type": "code",
      "source": [
        "%env PDK=sky130A\n",
        "!flow.tcl -design . -verbose 10 -to cts"
      ],
      "metadata": {
        "id": "GHSyLW5a9HQa"
      },
      "execution_count": null,
      "outputs": []
    },
    {
      "cell_type": "code",
      "source": [
        "%env PDK=sky130A\n",
        "!flow.tcl -design ."
      ],
      "metadata": {
        "id": "kpoLoupg9Jw8"
      },
      "execution_count": null,
      "outputs": []
    },
    {
      "cell_type": "code",
      "source": [
        "#@title メトリック {display-mode: \"form\"}\n",
        "import pathlib\n",
        "import pandas as pd\n",
        "\n",
        "pd.options.display.max_rows = None\n",
        "csv = sorted(pathlib.Path('runs').glob('*/reports/metrics.csv'))\n",
        "df = pd.read_csv(csv[-1])\n",
        "df.transpose()"
      ],
      "metadata": {
        "id": "Oe3ovtRJ9MwY"
      },
      "execution_count": null,
      "outputs": []
    },
    {
      "cell_type": "code",
      "source": [
        "#@title プレビュー {display-mode: \"form\"}\n",
        "\n",
        "import pathlib\n",
        "\n",
        "gds = sorted(pathlib.Path('runs').glob(f'*/results/final/gds/*.gds'))[-1].resolve()\n",
        "!python3 GDS2glTF/gds2gltf.py {gds} | tee gds2gltf.log\n",
        "import IPython.display\n",
        "IPython.display.clear_output(wait=True)\n",
        "with open(f'{gds}.gltf') as f:\n",
        "  gltf_data=f.read()\n",
        "  output = gds_viewer.render(gltf_data=gltf_data)\n",
        "IPython.display.HTML(output)"
      ],
      "metadata": {
        "id": "pf72wupR9PSd"
      },
      "execution_count": null,
      "outputs": []
    },
    {
      "cell_type": "markdown",
      "source": [
        "## チャレンジ課題\n",
        "\n",
        "1. 残りの時間を使って、自由にチップ設計に挑戦してみてください。\n",
        "1. XLSの[stdlib](https://github.com/google/xls/tree/main/xls/dslx/stdlib)、[examples](https://github.com/google/xls/tree/main/xls/examples)、[modules](https://github.com/google/xls/tree/main/xls/examples)を使ったり[third_party](https://github.com/google/xls/tree/main/third_party)のものを再利用してみてもよいでしょう。"
      ],
      "metadata": {
        "id": "4oOsNfozVIDo"
      }
    },
    {
      "cell_type": "code",
      "source": [
        "%%bash -c 'cat > user_module.x; interpreter_main user_module.x'\n",
        "\n",
        "fn user_module(io_in: u8) -> u8 {\n",
        "  u8:0\n",
        "}\n",
        "\n",
        "#[test]\n",
        "fn test() {\n",
        "  let _ = assert_eq(user_module(u8:0), u8:0);\n",
        "  _\n",
        "}"
      ],
      "metadata": {
        "id": "PTyKSn92WZCW"
      },
      "execution_count": null,
      "outputs": []
    },
    {
      "cell_type": "code",
      "source": [
        "!ir_converter_main --top=user_module user_module.x > user_module.ir\n",
        "!opt_main user_module.ir > user_module_opt.ir\n",
        "!codegen_main --use_system_verilog=false --module_name=user_module --generator=combinational user_module_opt.ir > user_module.v\n",
        "!cat user_module.v"
      ],
      "metadata": {
        "id": "eIGKUPA9Wsch"
      },
      "execution_count": null,
      "outputs": []
    },
    {
      "cell_type": "code",
      "source": [
        "%env PDK=sky130A\n",
        "!flow.tcl -design ."
      ],
      "metadata": {
        "id": "N0XmREpoWPNP"
      },
      "execution_count": null,
      "outputs": []
    },
    {
      "cell_type": "code",
      "source": [
        "#@title Metrics {display-mode: \"form\"}\n",
        "import pathlib\n",
        "import pandas as pd\n",
        "\n",
        "pd.options.display.max_rows = None\n",
        "csv = sorted(pathlib.Path('runs').glob('*/reports/metrics.csv'))\n",
        "df = pd.read_csv(csv[-1])\n",
        "df.transpose()"
      ],
      "metadata": {
        "id": "kxTGtsHXWPNc"
      },
      "execution_count": null,
      "outputs": []
    },
    {
      "cell_type": "code",
      "source": [
        "#@title Preview {display-mode: \"form\"}\n",
        "\n",
        "import pathlib\n",
        "\n",
        "gds = sorted(pathlib.Path('runs').glob(f'*/results/final/gds/*.gds'))[-1].resolve()\n",
        "!python3 GDS2glTF/gds2gltf.py {gds} | tee gds2gltf.log\n",
        "import IPython.display\n",
        "IPython.display.clear_output(wait=True)\n",
        "with open(f'{gds}.gltf') as f:\n",
        "  gltf_data=f.read()\n",
        "  output = gds_viewer.render(gltf_data=gltf_data)\n",
        "IPython.display.HTML(output)"
      ],
      "metadata": {
        "id": "AxX138XzWPNc"
      },
      "execution_count": null,
      "outputs": []
    },    
    {
      "cell_type": "markdown",
      "source": [
        "# テープアウト\n",
        "Googleがスポンサーする[OpenMPW シャトルプログラム](https://developers.google.com/silicon)に参加するためには、[Caravel ユーザープロジェクト](https://caravel-user-project.readthedocs.io/en/latest/) を使って、作成したデザインを[Caravel SoC ハーネス](https://caravel-harness.readthedocs.io/)と統合し、[mpw pre-check](https://github.com/efabless/mpw_precheck)のテストを通す必要があります。\n",
        "\n",
        "\n",
        "![caravel](https://caravel-user-project.readthedocs.io/en/latest/_static/layout.png)\n",
        "\n",
        "- ユーザープロジェクトのサイズ: 2920 µm x 3520 µm\n",
        "- SoC: RISC-Vベース ([スペック](https://caravel-mgmt-soc-litex.readthedocs.io/en/latest/#features))\n",
        "- I/Oピン: 38 ([ピン配列](https://caravel-harness.readthedocs.io/en/latest/pinout.html))\n",
        "- 通信: Wishboneバスおよび128ピン ロジックアナライザー"
      ],
      "metadata": {
        "id": "MtO8vid1lXVB"
      }
    },
    {
      "cell_type": "markdown",
      "source": [
        "## `tiny_user_project`を使う方法\n",
        "\n",
        "1. [tiny_user_projectのテンプレート](https://github.com/proppy/tiny_user_project)を使って新しいGitHubプロジェクトを作成する。\n",
        "1. [GitHubのページで`Sources`を`GitHub Actions`に設定する。](https://tinytapeout.com/faq/#my-github-action-is-failing-on-the-pages-part)\n",
        "1. `verilog/rtl/user_module.v`を自分のデザイン用のverilogコードに置き換える。\n",
         "1. `info.yaml`を自分のプロジェクト用に書き換える:\n",
        "   - `wokwi_id`を`0`にセットする。\n",
        "   - `source_files`のコメントを外し`- verilog/rtl/user_module.v`に設定する。\n",
        "   - `top_module`のコメントを外し、`user_module`に設定する。\n",
        "   - `inputs` / `outputs`のマッピングが自分のプロジェクトにあうように`documentation` をアップデートする。\n",
        "1. 変更をコミット・プッシュして ![user_project_ci](https://github.com/proppy/tiny_caravel_user_project/actions/workflows/user_project_ci.yml/badge.svg)ワークフローの`Actions`のサマリーを確認する（成功していれば、自動的に生成されたファイルを含む新規コミットが作られる）。\n",
        "\n",
        "1. プロジェクトのGitHubレポジトリを次回の[Open MPW シャトル](https://platform.efabless.com/shuttles/MPW-8)に[送信](https://platform.efabless.com/projects/create?project_definition=Open+MPW&shuttle=MPW-8)する。"
      ],
      "metadata": {
        "id": "CH1qUH7inFST"
      }
    }
  ]
}